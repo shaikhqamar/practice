{
 "cells": [
  {
   "cell_type": "markdown",
   "id": "cf3258ea",
   "metadata": {},
   "source": [
    "### 1.Write a python program to convert a string to lower case"
   ]
  },
  {
   "cell_type": "code",
   "execution_count": 60,
   "id": "41230c3a",
   "metadata": {},
   "outputs": [
    {
     "name": "stdout",
     "output_type": "stream",
     "text": [
      "QAMAR\n",
      "qamar\n"
     ]
    }
   ],
   "source": [
    "s = input()\n",
    "print(s.lower()) # using lower method convrtd the user's str into lower"
   ]
  },
  {
   "cell_type": "markdown",
   "id": "cc0f3a7b",
   "metadata": {},
   "source": [
    "### 2. Write a python program to convert only odd indexed characters to lower case"
   ]
  },
  {
   "cell_type": "code",
   "execution_count": 15,
   "id": "e8ce0352",
   "metadata": {},
   "outputs": [
    {
     "name": "stdout",
     "output_type": "stream",
     "text": [
      "Type a string : PYTHON\n",
      "PyThOn\n"
     ]
    }
   ],
   "source": [
    "s = input(\"Type a string : \") # takin string from user\n",
    "for i in range(len(s)): # iterating through the string\n",
    "    if i%2!=0: # checking for odd index\n",
    "        \n",
    "# replacing that value by lowercase  using indexing inside replace method \n",
    "        s = s.replace(s[i],s[i].lower()) \n",
    "print(s)"
   ]
  },
  {
   "cell_type": "code",
   "execution_count": 2,
   "id": "9fd9c4ef",
   "metadata": {},
   "outputs": [
    {
     "name": "stdout",
     "output_type": "stream",
     "text": [
      "Type a string : PYTHON\n",
      "PYTHON\n"
     ]
    }
   ],
   "source": [
    "s = input(\"Type a string : \") # takin string from user\n",
    "for i in (s[::2]): # iterating through the string\n",
    "    i.lower()\n",
    "print(s)"
   ]
  },
  {
   "cell_type": "markdown",
   "id": "ea7a7b46",
   "metadata": {},
   "source": [
    "### 3.Write a python program to convert only even indexed characters to lower case"
   ]
  },
  {
   "cell_type": "code",
   "execution_count": 18,
   "id": "fe3e29d5",
   "metadata": {},
   "outputs": [
    {
     "name": "stdout",
     "output_type": "stream",
     "text": [
      "Type a string : PYTHON\n",
      "pYtHoN\n"
     ]
    }
   ],
   "source": [
    "s = input(\"Type a string : \") # takin string from user\n",
    "for i in range(len(s)): # iterating through the string\n",
    "    if i%2==0:  # checking for even index\n",
    "        \n",
    "# replacing that value by lowercase  using indexing inside replace method \n",
    "        s = s.replace(s[i],s[i].lower())\n",
    "print(s)"
   ]
  },
  {
   "cell_type": "markdown",
   "id": "fd5f2908",
   "metadata": {},
   "source": [
    "### 4. Write a python program to convert only odd indexed characters to upper case"
   ]
  },
  {
   "cell_type": "code",
   "execution_count": 19,
   "id": "85ec467f",
   "metadata": {},
   "outputs": [
    {
     "name": "stdout",
     "output_type": "stream",
     "text": [
      "Type a string : python\n",
      "pYtHoN\n"
     ]
    }
   ],
   "source": [
    "s = input(\"Type a string : \") # takin string from user\n",
    "for i in range(len(s)): # iterating through the string\n",
    "    if i%2!=0: # checking for odd index\n",
    "\n",
    "# replacing that value by uppercase  using indexing inside replace method \n",
    "        s = s.replace(s[i],s[i].upper())\n",
    "\n",
    "print(s)"
   ]
  },
  {
   "cell_type": "markdown",
   "id": "abae4f3e",
   "metadata": {},
   "source": [
    "### 5. Write a python program to convert only even indexed characters to upper case"
   ]
  },
  {
   "cell_type": "code",
   "execution_count": 20,
   "id": "86795057",
   "metadata": {},
   "outputs": [
    {
     "name": "stdout",
     "output_type": "stream",
     "text": [
      "Type a string : python\n",
      "PyThOn\n"
     ]
    }
   ],
   "source": [
    "s = input(\"Type a string : \")  # takin string from user\n",
    "for i in range(len(s)): # iterating through the string\n",
    "    if i%2==0: # checking for odd index\n",
    "\n",
    "# replacing that value by uppercase  using indexing inside replace method \n",
    "        s = s.replace(s[i],s[i].upper())\n",
    "    \n",
    "print(s)"
   ]
  },
  {
   "cell_type": "markdown",
   "id": "ba9d5588",
   "metadata": {},
   "source": [
    "### 6. Write a python program where you have different variable which contains your name ,sex,age, phone no ,fathers name and mothers name.And by using this variable create a variable named bio-data where you will use all this variable <br> Ex:-print(bio-data) <br> Output:- My name is …., My age is ….,My phone-no is ….,my fathers name is …,and my mothers name is……"
   ]
  },
  {
   "cell_type": "code",
   "execution_count": 25,
   "id": "578763d9",
   "metadata": {},
   "outputs": [],
   "source": [
    "name = \"Md Qamar\"\n",
    "sex = \"male\"\n",
    "age = 24\n",
    "contact = 9336297409\n",
    "father_name = \"Abrar Ahmad\"\n",
    "mother_name = \"Zaib\"\n",
    "bio_data = \"My name is {} {}, My age is {}, My phone-no is {}, My father's name is {}, & My mother's name is {}\".format(name,sex,age,contact,father_name,mother_name)"
   ]
  },
  {
   "cell_type": "code",
   "execution_count": 26,
   "id": "d7af6c3d",
   "metadata": {},
   "outputs": [
    {
     "name": "stdout",
     "output_type": "stream",
     "text": [
      "My name is Md Qamar male, My age is 24, My phone-no is 9336297409, My father's name is Abrar Ahmad, & My mother's name is Zaib\n"
     ]
    }
   ],
   "source": [
    "print(bio_data)"
   ]
  },
  {
   "cell_type": "markdown",
   "id": "db544d47",
   "metadata": {},
   "source": [
    "### 7. Write a python program to count how many times “@” occurred"
   ]
  },
  {
   "cell_type": "code",
   "execution_count": 29,
   "id": "469b959e",
   "metadata": {},
   "outputs": [
    {
     "data": {
      "text/plain": [
       "3"
      ]
     },
     "execution_count": 29,
     "metadata": {},
     "output_type": "execute_result"
    }
   ],
   "source": [
    "s1=\"name1.@gmail.com,name2.@gmail.com,name3.@gmail.com\"\n",
    "s1.count('@') # counted \"@\" using count() method"
   ]
  },
  {
   "cell_type": "markdown",
   "id": "320a9feb",
   "metadata": {},
   "source": [
    "### 8. Write a python program to get only names from the string “name1.@gmail.com,name2.@gmail.com,name3.@gmail.com” <br> Output-name1,name2,name3"
   ]
  },
  {
   "cell_type": "code",
   "execution_count": 1,
   "id": "817c0398",
   "metadata": {},
   "outputs": [
    {
     "name": "stdout",
     "output_type": "stream",
     "text": [
      "['name1', '@gmail', 'com,name2', '@gmail', 'com,name3', '@gmail', 'com']\n",
      "name1 name2 name3\n"
     ]
    }
   ],
   "source": [
    "s1=\"name1.@gmail.com,name2.@gmail.com,name3.@gmail.com\"\n",
    "\n",
    "s1=s1.split(\".\") # by splitting with \".\" param, converted str into list\n",
    "print(s1)\n",
    "print(s1[0],s1[2][4:],s1[4][4:]) # by using slicing, printed the elements."
   ]
  },
  {
   "cell_type": "markdown",
   "id": "19e51541",
   "metadata": {},
   "source": [
    "### 9. Given a string of odd length greater that 9, return a new string made of the middle three characters of a given String <br> Ex:- “mynameissan Output:- “mei”"
   ]
  },
  {
   "cell_type": "code",
   "execution_count": 52,
   "id": "5b182b8b",
   "metadata": {},
   "outputs": [
    {
     "name": "stdout",
     "output_type": "stream",
     "text": [
      "mynameisqamar\n",
      "middle 3 character are :  eis\n"
     ]
    }
   ],
   "source": [
    "s=input()\n",
    "# used len() & floor divided it by 2 tretrieve middle value and with help of slicing retrieved the left and right value for middle 3 element  \n",
    "print(\"middle 3 character are : \",s[len(s)//2-1:len(s)//2+2])"
   ]
  },
  {
   "cell_type": "markdown",
   "id": "97f2312b",
   "metadata": {},
   "source": [
    "### 10. Write a python program to insert a 2 string in the middle of 1 string<br>Ex:-Str1=”myn”<br>Str2=”sa”<br>Output:-“msayn”"
   ]
  },
  {
   "cell_type": "code",
   "execution_count": 7,
   "id": "48b9dd3b",
   "metadata": {},
   "outputs": [
    {
     "name": "stdout",
     "output_type": "stream",
     "text": [
      "Type 1st str: qaar\n",
      "Type 2nd str: m\n",
      "Output :  qamar\n"
     ]
    }
   ],
   "source": [
    "s=input(\"Type 1st str: \")\n",
    "s2=input(\"Type 2nd str: \")\n",
    "print(\"Output : \",s[:len(s)//2]+s2+s[len(s)//2:])"
   ]
  },
  {
   "cell_type": "markdown",
   "id": "964235ae",
   "metadata": {},
   "source": [
    "### 11. Write a program to remove vowels from the entire alphabets<br>Ex:- “abcdefghijklmnopqrstuvwxyz” <br>Output:- “bcdfghjklmnpqrstvwxyz”"
   ]
  },
  {
   "cell_type": "code",
   "execution_count": 2,
   "id": "2d7c76fc",
   "metadata": {},
   "outputs": [
    {
     "name": "stdout",
     "output_type": "stream",
     "text": [
      "After removing Vowels:  bcdfghjklmnpqrstvwxyz\n"
     ]
    }
   ],
   "source": [
    "alphabets=\"abcdefghijklmnopqrstuvwxyz\"\n",
    "alphabets=list(alphabets)\n",
    "vowels = ['a','e','i','o','u']\n",
    "consonants = \"\"\n",
    "for char in alphabets:\n",
    "    if char not in vowels:\n",
    "        consonants = consonants + char\n",
    "print(\"After removing Vowels: \", consonants)"
   ]
  },
  {
   "cell_type": "code",
   "execution_count": null,
   "id": "bb62d455",
   "metadata": {},
   "outputs": [],
   "source": []
  }
 ],
 "metadata": {
  "kernelspec": {
   "display_name": "Python 3",
   "language": "python",
   "name": "python3"
  },
  "language_info": {
   "codemirror_mode": {
    "name": "ipython",
    "version": 3
   },
   "file_extension": ".py",
   "mimetype": "text/x-python",
   "name": "python",
   "nbconvert_exporter": "python",
   "pygments_lexer": "ipython3",
   "version": "3.8.10"
  }
 },
 "nbformat": 4,
 "nbformat_minor": 5
}
